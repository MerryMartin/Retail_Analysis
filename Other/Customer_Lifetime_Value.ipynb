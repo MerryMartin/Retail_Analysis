{
 "cells": [
  {
   "cell_type": "markdown",
   "id": "fa91c61b-529e-4ce9-9f21-8f48c02cc87c",
   "metadata": {},
   "source": [
    "<center><h1>Customer Lifetime Value With Probabilistic Model</h1></center>"
   ]
  },
  {
   "cell_type": "markdown",
   "id": "c3bf77c4-f1c9-4bd2-aa3d-c0c9ad15b110",
   "metadata": {},
   "source": [
    "<center><img src=\"https://content.webengage.com/wp-content/uploads/sites/4/2016/05/How-to-Calculate-Increase-Customer-.png\" alt=\"Customer Lifetime Value\" width=\"1000\" height=\"600\"></center>"
   ]
  },
  {
   "cell_type": "markdown",
   "id": "e34dfee7-d4f3-4bc9-9706-0af178ab7205",
   "metadata": {},
   "source": [
    "### Business Problem"
   ]
  },
  {
   "cell_type": "markdown",
   "id": "1f1db2d3-00f9-437e-ac3f-93bcd3921efc",
   "metadata": {},
   "source": [
    "- An online company would like to know each customer lifetime value for 6 months and 12 months periods.\n",
    "- We will utilize one of the Buy Till You Die model BG/NBD for predicting purchase amounts and then used Gamma-Gamma model to predict Customer Lifetime Value for desired periods. "
   ]
  },
  {
   "cell_type": "markdown",
   "id": "c5e00ea7-fbc7-4c0f-830e-10f335306c37",
   "metadata": {},
   "source": [
    "### Importing Libraries"
   ]
  },
  {
   "cell_type": "code",
   "execution_count": 3,
   "id": "c9901663-d615-4ce7-a8f8-d71ca610a610",
   "metadata": {},
   "outputs": [],
   "source": [
    "import lifetimes\n",
    "\n",
    "import pandas as pd\n",
    "import numpy as np\n",
    "import datetime as dt\n",
    "\n",
    "import matplotlib.pyplot as plt\n",
    "import seaborn as sns\n",
    "\n",
    "from lifetimes import BetaGeoFitter\n",
    "from lifetimes import GammaGammaFitter\n",
    "from sklearn.preprocessing import MinMaxScaler\n",
    "\n",
    "from lifetimes.plotting import plot_frequency_recency_matrix\n",
    "from lifetimes.plotting import plot_probability_alive_matrix\n",
    "from lifetimes.plotting import plot_period_transactions\n",
    "\n",
    "pd.set_option('display.max_rows', 500)\n",
    "pd.set_option('display.max_columns', 500)\n",
    "pd.set_option('display.width', 1000)\n"
   ]
  },
  {
   "cell_type": "markdown",
   "id": "803f6d21-2283-444c-b95a-432cda6bbaf8",
   "metadata": {},
   "source": [
    "### Reading Data"
   ]
  },
  {
   "cell_type": "code",
   "execution_count": 4,
   "id": "9e2a6c31-4a0a-4138-9450-6c0d0422fad3",
   "metadata": {},
   "outputs": [],
   "source": [
    "df = pd.read_csv(\"../AN_EW_CUST_DATASET_202303141449.csv\")"
   ]
  },
  {
   "cell_type": "markdown",
   "id": "1aba290b-9fe5-4e9e-ac38-6be0b4926f78",
   "metadata": {},
   "source": [
    "#### Data Understanding"
   ]
  },
  {
   "cell_type": "code",
   "execution_count": 5,
   "id": "648af7ab-4b2b-4365-b2d3-66b2831ce612",
   "metadata": {},
   "outputs": [
    {
     "data": {
      "text/html": [
       "<div>\n",
       "<style scoped>\n",
       "    .dataframe tbody tr th:only-of-type {\n",
       "        vertical-align: middle;\n",
       "    }\n",
       "\n",
       "    .dataframe tbody tr th {\n",
       "        vertical-align: top;\n",
       "    }\n",
       "\n",
       "    .dataframe thead th {\n",
       "        text-align: right;\n",
       "    }\n",
       "</style>\n",
       "<table border=\"1\" class=\"dataframe\">\n",
       "  <thead>\n",
       "    <tr style=\"text-align: right;\">\n",
       "      <th></th>\n",
       "      <th>IID</th>\n",
       "      <th>AGE_</th>\n",
       "      <th>INCOME</th>\n",
       "      <th>ETHNIC_CODE_GROUP</th>\n",
       "      <th>AN_BIRTHDAY</th>\n",
       "      <th>POSTAL_CD</th>\n",
       "      <th>LOYALTY_YN</th>\n",
       "      <th>LOYALTY_ENROLLMENT_DT</th>\n",
       "      <th>FIRST_ANTHRO_ORDER</th>\n",
       "      <th>LIFETIME_APPAREL_DEMAND</th>\n",
       "      <th>LIFETIME_APPAREL_ORDERS</th>\n",
       "      <th>ORDER_DT</th>\n",
       "      <th>ORDER_ID</th>\n",
       "      <th>ORDER_LINE_SEQ</th>\n",
       "      <th>PURCHASE_CHANNEL_DERIVED</th>\n",
       "      <th>STORE_NUM</th>\n",
       "      <th>STORE_NAME</th>\n",
       "      <th>STORE_ZIP</th>\n",
       "      <th>DIVISION_NAME</th>\n",
       "      <th>DEPARTMENT_NAME</th>\n",
       "      <th>CLASS_NAME</th>\n",
       "      <th>PRODUCT_ID</th>\n",
       "      <th>ITEM_NAME</th>\n",
       "      <th>MD_STATE</th>\n",
       "      <th>DEMAND_QTY</th>\n",
       "      <th>DEMAND_AMT</th>\n",
       "    </tr>\n",
       "  </thead>\n",
       "  <tbody>\n",
       "    <tr>\n",
       "      <th>0</th>\n",
       "      <td>010TUGIXZ95K5R</td>\n",
       "      <td>57</td>\n",
       "      <td>8</td>\n",
       "      <td>K</td>\n",
       "      <td>0.0</td>\n",
       "      <td>85260.0</td>\n",
       "      <td>Y</td>\n",
       "      <td>00:00.0</td>\n",
       "      <td>3/24/2015</td>\n",
       "      <td>5059.97</td>\n",
       "      <td>67</td>\n",
       "      <td>6/12/2020</td>\n",
       "      <td>4230042557</td>\n",
       "      <td>2</td>\n",
       "      <td>RETAIL</td>\n",
       "      <td>423</td>\n",
       "      <td>423 SCOTTSDALE,AZ-KIERLND  (NA)</td>\n",
       "      <td>85254-2176</td>\n",
       "      <td>ANTHRO. WOMEN'S DIVISION (NA)</td>\n",
       "      <td>ANTHRO. WOMEN'S BOTTOMS (NA)</td>\n",
       "      <td>PANTS (NA)</td>\n",
       "      <td>54766134</td>\n",
       "      <td>ASYMMETRICAL PULL ON PANT</td>\n",
       "      <td>REG PRICE</td>\n",
       "      <td>1</td>\n",
       "      <td>52.46</td>\n",
       "    </tr>\n",
       "    <tr>\n",
       "      <th>1</th>\n",
       "      <td>0109BPMLXNREXT</td>\n",
       "      <td>50</td>\n",
       "      <td>7</td>\n",
       "      <td>J</td>\n",
       "      <td>306.0</td>\n",
       "      <td>20017.0</td>\n",
       "      <td>Y</td>\n",
       "      <td>00:00.0</td>\n",
       "      <td>10/15/2015</td>\n",
       "      <td>17353.28</td>\n",
       "      <td>54</td>\n",
       "      <td>2/9/2021</td>\n",
       "      <td>AP11740106</td>\n",
       "      <td>3</td>\n",
       "      <td>DIRECT</td>\n",
       "      <td>2499</td>\n",
       "      <td>ANT DIRECT SELLING  (NA)</td>\n",
       "      <td>NaN</td>\n",
       "      <td>OFF HOURS (NA)</td>\n",
       "      <td>ANTHRO - OFF HOURS (NA)</td>\n",
       "      <td>LOUNGE (NA)</td>\n",
       "      <td>59001933</td>\n",
       "      <td>COZY KNIT JOGGER</td>\n",
       "      <td>REG PRICE</td>\n",
       "      <td>1</td>\n",
       "      <td>44.96</td>\n",
       "    </tr>\n",
       "    <tr>\n",
       "      <th>2</th>\n",
       "      <td>0102I4L0PINZB3</td>\n",
       "      <td>54</td>\n",
       "      <td>11</td>\n",
       "      <td>E</td>\n",
       "      <td>1129.0</td>\n",
       "      <td>23233.0</td>\n",
       "      <td>Y</td>\n",
       "      <td>00:00.0</td>\n",
       "      <td>7/11/2017</td>\n",
       "      <td>4481.17</td>\n",
       "      <td>30</td>\n",
       "      <td>12/26/2022</td>\n",
       "      <td>4440016787</td>\n",
       "      <td>1</td>\n",
       "      <td>RETAIL</td>\n",
       "      <td>444</td>\n",
       "      <td>444 RICHMOND, VA  (NA)</td>\n",
       "      <td>23235-1955</td>\n",
       "      <td>ANTHRO. WOMEN'S DIVISION (NA)</td>\n",
       "      <td>JACKETS (NA)</td>\n",
       "      <td>OUTERWEAR - ANTHRO. (NA)</td>\n",
       "      <td>69997476</td>\n",
       "      <td>UNREAL FUR KATHMANDU COAT</td>\n",
       "      <td>REG PRICE</td>\n",
       "      <td>1</td>\n",
       "      <td>179.97</td>\n",
       "    </tr>\n",
       "    <tr>\n",
       "      <th>3</th>\n",
       "      <td>010QS307CAT5WJ</td>\n",
       "      <td>48</td>\n",
       "      <td>11</td>\n",
       "      <td>K</td>\n",
       "      <td>204.0</td>\n",
       "      <td>23453.0</td>\n",
       "      <td>Y</td>\n",
       "      <td>00:00.0</td>\n",
       "      <td>6/28/2018</td>\n",
       "      <td>8312.67</td>\n",
       "      <td>47</td>\n",
       "      <td>9/14/2020</td>\n",
       "      <td>AP08740761</td>\n",
       "      <td>1</td>\n",
       "      <td>DIRECT</td>\n",
       "      <td>2499</td>\n",
       "      <td>ANT DIRECT SELLING  (NA)</td>\n",
       "      <td>NaN</td>\n",
       "      <td>APPAREL EXTENDED SIZES (NA)</td>\n",
       "      <td>PETITES (NA)</td>\n",
       "      <td>JEANS - PETITES (NA)</td>\n",
       "      <td>58280181</td>\n",
       "      <td>OB HR FEMME DARTED SKINNY</td>\n",
       "      <td>MARKDOWN</td>\n",
       "      <td>1</td>\n",
       "      <td>128.00</td>\n",
       "    </tr>\n",
       "    <tr>\n",
       "      <th>4</th>\n",
       "      <td>0101EN5Q3W4AE8</td>\n",
       "      <td>32</td>\n",
       "      <td>9</td>\n",
       "      <td>K</td>\n",
       "      <td>0.0</td>\n",
       "      <td>94108.0</td>\n",
       "      <td>Y</td>\n",
       "      <td>00:00.0</td>\n",
       "      <td>7/12/2019</td>\n",
       "      <td>6528.04</td>\n",
       "      <td>37</td>\n",
       "      <td>3/31/2022</td>\n",
       "      <td>AN09227509</td>\n",
       "      <td>1</td>\n",
       "      <td>DIRECT</td>\n",
       "      <td>2499</td>\n",
       "      <td>ANT DIRECT SELLING  (NA)</td>\n",
       "      <td>NaN</td>\n",
       "      <td>APPAREL EXTENDED SIZES (NA)</td>\n",
       "      <td>PETITES (NA)</td>\n",
       "      <td>DRESSES - PETITES (NA)</td>\n",
       "      <td>66952177</td>\n",
       "      <td>OB 1 SHLDR CHERRY PRNTD M</td>\n",
       "      <td>MARKDOWN</td>\n",
       "      <td>1</td>\n",
       "      <td>160.00</td>\n",
       "    </tr>\n",
       "  </tbody>\n",
       "</table>\n",
       "</div>"
      ],
      "text/plain": [
       "              IID  AGE_  INCOME ETHNIC_CODE_GROUP  AN_BIRTHDAY  POSTAL_CD LOYALTY_YN LOYALTY_ENROLLMENT_DT FIRST_ANTHRO_ORDER  LIFETIME_APPAREL_DEMAND  LIFETIME_APPAREL_ORDERS    ORDER_DT    ORDER_ID  ORDER_LINE_SEQ PURCHASE_CHANNEL_DERIVED  STORE_NUM                       STORE_NAME   STORE_ZIP                  DIVISION_NAME               DEPARTMENT_NAME                CLASS_NAME  PRODUCT_ID                  ITEM_NAME   MD_STATE  DEMAND_QTY  DEMAND_AMT\n",
       "0  010TUGIXZ95K5R    57       8                 K          0.0    85260.0          Y               00:00.0          3/24/2015                  5059.97                       67   6/12/2020  4230042557               2                   RETAIL        423  423 SCOTTSDALE,AZ-KIERLND  (NA)  85254-2176  ANTHRO. WOMEN'S DIVISION (NA)  ANTHRO. WOMEN'S BOTTOMS (NA)                PANTS (NA)    54766134  ASYMMETRICAL PULL ON PANT  REG PRICE           1       52.46\n",
       "1  0109BPMLXNREXT    50       7                 J        306.0    20017.0          Y               00:00.0         10/15/2015                 17353.28                       54    2/9/2021  AP11740106               3                   DIRECT       2499         ANT DIRECT SELLING  (NA)         NaN                 OFF HOURS (NA)       ANTHRO - OFF HOURS (NA)               LOUNGE (NA)    59001933           COZY KNIT JOGGER  REG PRICE           1       44.96\n",
       "2  0102I4L0PINZB3    54      11                 E       1129.0    23233.0          Y               00:00.0          7/11/2017                  4481.17                       30  12/26/2022  4440016787               1                   RETAIL        444           444 RICHMOND, VA  (NA)  23235-1955  ANTHRO. WOMEN'S DIVISION (NA)                  JACKETS (NA)  OUTERWEAR - ANTHRO. (NA)    69997476  UNREAL FUR KATHMANDU COAT  REG PRICE           1      179.97\n",
       "3  010QS307CAT5WJ    48      11                 K        204.0    23453.0          Y               00:00.0          6/28/2018                  8312.67                       47   9/14/2020  AP08740761               1                   DIRECT       2499         ANT DIRECT SELLING  (NA)         NaN    APPAREL EXTENDED SIZES (NA)                  PETITES (NA)      JEANS - PETITES (NA)    58280181  OB HR FEMME DARTED SKINNY   MARKDOWN           1      128.00\n",
       "4  0101EN5Q3W4AE8    32       9                 K          0.0    94108.0          Y               00:00.0          7/12/2019                  6528.04                       37   3/31/2022  AN09227509               1                   DIRECT       2499         ANT DIRECT SELLING  (NA)         NaN    APPAREL EXTENDED SIZES (NA)                  PETITES (NA)    DRESSES - PETITES (NA)    66952177  OB 1 SHLDR CHERRY PRNTD M   MARKDOWN           1      160.00"
      ]
     },
     "execution_count": 5,
     "metadata": {},
     "output_type": "execute_result"
    }
   ],
   "source": [
    "df.head()"
   ]
  },
  {
   "cell_type": "code",
   "execution_count": 6,
   "id": "af677729-2940-4442-933f-fff69995e8c9",
   "metadata": {},
   "outputs": [
    {
     "name": "stdout",
     "output_type": "stream",
     "text": [
      "<class 'pandas.core.frame.DataFrame'>\n",
      "RangeIndex: 284141 entries, 0 to 284140\n",
      "Data columns (total 26 columns):\n",
      " #   Column                    Non-Null Count   Dtype  \n",
      "---  ------                    --------------   -----  \n",
      " 0   IID                       284141 non-null  object \n",
      " 1   AGE_                      284141 non-null  int64  \n",
      " 2   INCOME                    284141 non-null  int64  \n",
      " 3   ETHNIC_CODE_GROUP         284141 non-null  object \n",
      " 4   AN_BIRTHDAY               243602 non-null  float64\n",
      " 5   POSTAL_CD                 284046 non-null  float64\n",
      " 6   LOYALTY_YN                284141 non-null  object \n",
      " 7   LOYALTY_ENROLLMENT_DT     257998 non-null  object \n",
      " 8   FIRST_ANTHRO_ORDER        284141 non-null  object \n",
      " 9   LIFETIME_APPAREL_DEMAND   284141 non-null  float64\n",
      " 10  LIFETIME_APPAREL_ORDERS   284141 non-null  int64  \n",
      " 11  ORDER_DT                  284141 non-null  object \n",
      " 12  ORDER_ID                  284141 non-null  object \n",
      " 13  ORDER_LINE_SEQ            284141 non-null  int64  \n",
      " 14  PURCHASE_CHANNEL_DERIVED  284141 non-null  object \n",
      " 15  STORE_NUM                 284141 non-null  int64  \n",
      " 16  STORE_NAME                284141 non-null  object \n",
      " 17  STORE_ZIP                 117707 non-null  object \n",
      " 18  DIVISION_NAME             284141 non-null  object \n",
      " 19  DEPARTMENT_NAME           284141 non-null  object \n",
      " 20  CLASS_NAME                284141 non-null  object \n",
      " 21  PRODUCT_ID                284141 non-null  int64  \n",
      " 22  ITEM_NAME                 284141 non-null  object \n",
      " 23  MD_STATE                  284141 non-null  object \n",
      " 24  DEMAND_QTY                284141 non-null  int64  \n",
      " 25  DEMAND_AMT                284141 non-null  float64\n",
      "dtypes: float64(4), int64(7), object(15)\n",
      "memory usage: 56.4+ MB\n"
     ]
    }
   ],
   "source": [
    "df.info()"
   ]
  },
  {
   "cell_type": "code",
   "execution_count": 7,
   "id": "637f96f1-1b8d-4a7a-af74-0b109f5f2b79",
   "metadata": {},
   "outputs": [
    {
     "data": {
      "text/html": [
       "<div>\n",
       "<style scoped>\n",
       "    .dataframe tbody tr th:only-of-type {\n",
       "        vertical-align: middle;\n",
       "    }\n",
       "\n",
       "    .dataframe tbody tr th {\n",
       "        vertical-align: top;\n",
       "    }\n",
       "\n",
       "    .dataframe thead th {\n",
       "        text-align: right;\n",
       "    }\n",
       "</style>\n",
       "<table border=\"1\" class=\"dataframe\">\n",
       "  <thead>\n",
       "    <tr style=\"text-align: right;\">\n",
       "      <th></th>\n",
       "      <th>AGE_</th>\n",
       "      <th>INCOME</th>\n",
       "      <th>AN_BIRTHDAY</th>\n",
       "      <th>POSTAL_CD</th>\n",
       "      <th>LIFETIME_APPAREL_DEMAND</th>\n",
       "      <th>LIFETIME_APPAREL_ORDERS</th>\n",
       "      <th>ORDER_LINE_SEQ</th>\n",
       "      <th>STORE_NUM</th>\n",
       "      <th>PRODUCT_ID</th>\n",
       "      <th>DEMAND_QTY</th>\n",
       "      <th>DEMAND_AMT</th>\n",
       "    </tr>\n",
       "  </thead>\n",
       "  <tbody>\n",
       "    <tr>\n",
       "      <th>count</th>\n",
       "      <td>284141.000000</td>\n",
       "      <td>284141.000000</td>\n",
       "      <td>243602.000000</td>\n",
       "      <td>284046.000000</td>\n",
       "      <td>284141.000000</td>\n",
       "      <td>284141.000000</td>\n",
       "      <td>284141.000000</td>\n",
       "      <td>284141.000000</td>\n",
       "      <td>2.841410e+05</td>\n",
       "      <td>284141.000000</td>\n",
       "      <td>284141.000000</td>\n",
       "    </tr>\n",
       "    <tr>\n",
       "      <th>mean</th>\n",
       "      <td>48.545419</td>\n",
       "      <td>8.457210</td>\n",
       "      <td>246.407924</td>\n",
       "      <td>51109.362378</td>\n",
       "      <td>32430.667156</td>\n",
       "      <td>200.971440</td>\n",
       "      <td>2.827350</td>\n",
       "      <td>1728.718541</td>\n",
       "      <td>6.395121e+07</td>\n",
       "      <td>1.007743</td>\n",
       "      <td>75.450875</td>\n",
       "    </tr>\n",
       "    <tr>\n",
       "      <th>std</th>\n",
       "      <td>12.576807</td>\n",
       "      <td>2.964703</td>\n",
       "      <td>377.236308</td>\n",
       "      <td>31665.752074</td>\n",
       "      <td>84730.291008</td>\n",
       "      <td>525.947521</td>\n",
       "      <td>3.023772</td>\n",
       "      <td>944.799585</td>\n",
       "      <td>7.113121e+06</td>\n",
       "      <td>0.141846</td>\n",
       "      <td>57.050634</td>\n",
       "    </tr>\n",
       "    <tr>\n",
       "      <th>min</th>\n",
       "      <td>18.000000</td>\n",
       "      <td>1.000000</td>\n",
       "      <td>0.000000</td>\n",
       "      <td>1001.000000</td>\n",
       "      <td>3.570000</td>\n",
       "      <td>1.000000</td>\n",
       "      <td>1.000000</td>\n",
       "      <td>401.000000</td>\n",
       "      <td>2.524303e+07</td>\n",
       "      <td>1.000000</td>\n",
       "      <td>0.050000</td>\n",
       "    </tr>\n",
       "    <tr>\n",
       "      <th>25%</th>\n",
       "      <td>40.000000</td>\n",
       "      <td>6.000000</td>\n",
       "      <td>0.000000</td>\n",
       "      <td>21921.000000</td>\n",
       "      <td>2755.020000</td>\n",
       "      <td>20.000000</td>\n",
       "      <td>1.000000</td>\n",
       "      <td>517.000000</td>\n",
       "      <td>5.873028e+07</td>\n",
       "      <td>1.000000</td>\n",
       "      <td>33.600000</td>\n",
       "    </tr>\n",
       "    <tr>\n",
       "      <th>50%</th>\n",
       "      <td>49.000000</td>\n",
       "      <td>8.000000</td>\n",
       "      <td>0.000000</td>\n",
       "      <td>48304.000000</td>\n",
       "      <td>7900.850000</td>\n",
       "      <td>53.000000</td>\n",
       "      <td>2.000000</td>\n",
       "      <td>2499.000000</td>\n",
       "      <td>6.295644e+07</td>\n",
       "      <td>1.000000</td>\n",
       "      <td>59.960000</td>\n",
       "    </tr>\n",
       "    <tr>\n",
       "      <th>75%</th>\n",
       "      <td>57.000000</td>\n",
       "      <td>11.000000</td>\n",
       "      <td>505.000000</td>\n",
       "      <td>80224.000000</td>\n",
       "      <td>20813.140000</td>\n",
       "      <td>131.000000</td>\n",
       "      <td>3.000000</td>\n",
       "      <td>2499.000000</td>\n",
       "      <td>6.745200e+07</td>\n",
       "      <td>1.000000</td>\n",
       "      <td>103.600000</td>\n",
       "    </tr>\n",
       "    <tr>\n",
       "      <th>max</th>\n",
       "      <td>99.000000</td>\n",
       "      <td>12.000000</td>\n",
       "      <td>1231.000000</td>\n",
       "      <td>99901.000000</td>\n",
       "      <td>464042.360000</td>\n",
       "      <td>2896.000000</td>\n",
       "      <td>67.000000</td>\n",
       "      <td>6785.000000</td>\n",
       "      <td>8.247167e+07</td>\n",
       "      <td>38.000000</td>\n",
       "      <td>1500.000000</td>\n",
       "    </tr>\n",
       "  </tbody>\n",
       "</table>\n",
       "</div>"
      ],
      "text/plain": [
       "                AGE_         INCOME    AN_BIRTHDAY      POSTAL_CD  LIFETIME_APPAREL_DEMAND  LIFETIME_APPAREL_ORDERS  ORDER_LINE_SEQ      STORE_NUM    PRODUCT_ID     DEMAND_QTY     DEMAND_AMT\n",
       "count  284141.000000  284141.000000  243602.000000  284046.000000            284141.000000            284141.000000   284141.000000  284141.000000  2.841410e+05  284141.000000  284141.000000\n",
       "mean       48.545419       8.457210     246.407924   51109.362378             32430.667156               200.971440        2.827350    1728.718541  6.395121e+07       1.007743      75.450875\n",
       "std        12.576807       2.964703     377.236308   31665.752074             84730.291008               525.947521        3.023772     944.799585  7.113121e+06       0.141846      57.050634\n",
       "min        18.000000       1.000000       0.000000    1001.000000                 3.570000                 1.000000        1.000000     401.000000  2.524303e+07       1.000000       0.050000\n",
       "25%        40.000000       6.000000       0.000000   21921.000000              2755.020000                20.000000        1.000000     517.000000  5.873028e+07       1.000000      33.600000\n",
       "50%        49.000000       8.000000       0.000000   48304.000000              7900.850000                53.000000        2.000000    2499.000000  6.295644e+07       1.000000      59.960000\n",
       "75%        57.000000      11.000000     505.000000   80224.000000             20813.140000               131.000000        3.000000    2499.000000  6.745200e+07       1.000000     103.600000\n",
       "max        99.000000      12.000000    1231.000000   99901.000000            464042.360000              2896.000000       67.000000    6785.000000  8.247167e+07      38.000000    1500.000000"
      ]
     },
     "execution_count": 7,
     "metadata": {},
     "output_type": "execute_result"
    }
   ],
   "source": [
    "df.describe()"
   ]
  },
  {
   "cell_type": "markdown",
   "id": "cfafa285-74e9-46d6-b6e3-81bebc3950b8",
   "metadata": {},
   "source": [
    "### Data Preprocessing"
   ]
  },
  {
   "cell_type": "code",
   "execution_count": 8,
   "id": "4980a7fd-8e24-4b7f-95f3-bea4eb31e297",
   "metadata": {
    "tags": []
   },
   "outputs": [],
   "source": [
    "# df = df[df['Quantity'] > 0 ]\n",
    "# df = df[df['UnitPrice'] > 0]\n",
    "# df = df[~df['InvoiceNo'].str.contains(\"C\",na=False)] # drop returned items\n",
    "\n",
    "df=df[['IID', 'ORDER_DT', 'DEMAND_AMT', 'DEMAND_QTY']]"
   ]
  },
  {
   "cell_type": "markdown",
   "id": "31041550-4f5e-4be8-bf2f-b939c474c742",
   "metadata": {},
   "source": [
    "#### Missing Values\n"
   ]
  },
  {
   "cell_type": "code",
   "execution_count": 9,
   "id": "4a999daa-d28b-4246-8f36-cad08762a373",
   "metadata": {},
   "outputs": [],
   "source": [
    "df.dropna(inplace=True)"
   ]
  },
  {
   "cell_type": "markdown",
   "id": "5fbf2765-9bdc-47c1-9976-5d42c5dfde00",
   "metadata": {},
   "source": [
    "#### Handling Outliers"
   ]
  },
  {
   "cell_type": "code",
   "execution_count": 10,
   "id": "42943109-3081-40fb-9528-1197252899c4",
   "metadata": {},
   "outputs": [],
   "source": [
    "def find_boundaries(df, variable,q1=0.05,q2=0.95):\n",
    "\n",
    "    # the boundaries are the quantiles\n",
    "\n",
    "    lower_boundary = df[variable].quantile(q1)\n",
    "    upper_boundary = df[variable].quantile(q2)\n",
    "\n",
    "    return upper_boundary, lower_boundary\n",
    "\n",
    "def capping_outliers(df,variable):\n",
    "    upper_boundary,lower_boundary =  find_boundaries(df,variable)\n",
    "    df[variable] = np.where(df[variable] > upper_boundary, upper_boundary,\n",
    "                       np.where(df[variable] < lower_boundary, lower_boundary, df[variable]))"
   ]
  },
  {
   "cell_type": "code",
   "execution_count": 11,
   "id": "04afe0ee-e9d6-4539-b4b8-da2161cfb4c9",
   "metadata": {},
   "outputs": [],
   "source": [
    "capping_outliers(df,'DEMAND_QTY')\n",
    "capping_outliers(df,'DEMAND_AMT')"
   ]
  },
  {
   "cell_type": "code",
   "execution_count": 12,
   "id": "ff532976-83de-4c55-a2d8-d17d7e24af4a",
   "metadata": {},
   "outputs": [
    {
     "data": {
      "text/html": [
       "<div>\n",
       "<style scoped>\n",
       "    .dataframe tbody tr th:only-of-type {\n",
       "        vertical-align: middle;\n",
       "    }\n",
       "\n",
       "    .dataframe tbody tr th {\n",
       "        vertical-align: top;\n",
       "    }\n",
       "\n",
       "    .dataframe thead th {\n",
       "        text-align: right;\n",
       "    }\n",
       "</style>\n",
       "<table border=\"1\" class=\"dataframe\">\n",
       "  <thead>\n",
       "    <tr style=\"text-align: right;\">\n",
       "      <th></th>\n",
       "      <th>DEMAND_AMT</th>\n",
       "      <th>DEMAND_QTY</th>\n",
       "    </tr>\n",
       "  </thead>\n",
       "  <tbody>\n",
       "    <tr>\n",
       "      <th>count</th>\n",
       "      <td>284141.000000</td>\n",
       "      <td>284141.0</td>\n",
       "    </tr>\n",
       "    <tr>\n",
       "      <th>mean</th>\n",
       "      <td>73.128209</td>\n",
       "      <td>1.0</td>\n",
       "    </tr>\n",
       "    <tr>\n",
       "      <th>std</th>\n",
       "      <td>48.739366</td>\n",
       "      <td>0.0</td>\n",
       "    </tr>\n",
       "    <tr>\n",
       "      <th>min</th>\n",
       "      <td>12.000000</td>\n",
       "      <td>1.0</td>\n",
       "    </tr>\n",
       "    <tr>\n",
       "      <th>25%</th>\n",
       "      <td>33.600000</td>\n",
       "      <td>1.0</td>\n",
       "    </tr>\n",
       "    <tr>\n",
       "      <th>50%</th>\n",
       "      <td>59.960000</td>\n",
       "      <td>1.0</td>\n",
       "    </tr>\n",
       "    <tr>\n",
       "      <th>75%</th>\n",
       "      <td>103.600000</td>\n",
       "      <td>1.0</td>\n",
       "    </tr>\n",
       "    <tr>\n",
       "      <th>max</th>\n",
       "      <td>178.500000</td>\n",
       "      <td>1.0</td>\n",
       "    </tr>\n",
       "  </tbody>\n",
       "</table>\n",
       "</div>"
      ],
      "text/plain": [
       "          DEMAND_AMT  DEMAND_QTY\n",
       "count  284141.000000    284141.0\n",
       "mean       73.128209         1.0\n",
       "std        48.739366         0.0\n",
       "min        12.000000         1.0\n",
       "25%        33.600000         1.0\n",
       "50%        59.960000         1.0\n",
       "75%       103.600000         1.0\n",
       "max       178.500000         1.0"
      ]
     },
     "execution_count": 12,
     "metadata": {},
     "output_type": "execute_result"
    }
   ],
   "source": [
    "df.describe()"
   ]
  },
  {
   "cell_type": "markdown",
   "id": "0061e10e-d853-4476-8ce3-69db1e80c449",
   "metadata": {},
   "source": [
    "#### Creating Column 'Total Price'"
   ]
  },
  {
   "cell_type": "code",
   "execution_count": 13,
   "id": "5f3dace9-84dc-4427-a43d-82eb54147dff",
   "metadata": {},
   "outputs": [],
   "source": [
    "df['Total Price'] = df['DEMAND_AMT'] * df['DEMAND_QTY']"
   ]
  },
  {
   "cell_type": "code",
   "execution_count": 14,
   "id": "dde6303d-dad2-471f-b84e-dfdc220094f4",
   "metadata": {},
   "outputs": [
    {
     "data": {
      "text/html": [
       "<div>\n",
       "<style scoped>\n",
       "    .dataframe tbody tr th:only-of-type {\n",
       "        vertical-align: middle;\n",
       "    }\n",
       "\n",
       "    .dataframe tbody tr th {\n",
       "        vertical-align: top;\n",
       "    }\n",
       "\n",
       "    .dataframe thead th {\n",
       "        text-align: right;\n",
       "    }\n",
       "</style>\n",
       "<table border=\"1\" class=\"dataframe\">\n",
       "  <thead>\n",
       "    <tr style=\"text-align: right;\">\n",
       "      <th></th>\n",
       "      <th>IID</th>\n",
       "      <th>ORDER_DT</th>\n",
       "      <th>DEMAND_AMT</th>\n",
       "      <th>DEMAND_QTY</th>\n",
       "      <th>Total Price</th>\n",
       "    </tr>\n",
       "  </thead>\n",
       "  <tbody>\n",
       "    <tr>\n",
       "      <th>0</th>\n",
       "      <td>010TUGIXZ95K5R</td>\n",
       "      <td>6/12/2020</td>\n",
       "      <td>52.46</td>\n",
       "      <td>1.0</td>\n",
       "      <td>52.46</td>\n",
       "    </tr>\n",
       "    <tr>\n",
       "      <th>1</th>\n",
       "      <td>0109BPMLXNREXT</td>\n",
       "      <td>2/9/2021</td>\n",
       "      <td>44.96</td>\n",
       "      <td>1.0</td>\n",
       "      <td>44.96</td>\n",
       "    </tr>\n",
       "    <tr>\n",
       "      <th>2</th>\n",
       "      <td>0102I4L0PINZB3</td>\n",
       "      <td>12/26/2022</td>\n",
       "      <td>178.50</td>\n",
       "      <td>1.0</td>\n",
       "      <td>178.50</td>\n",
       "    </tr>\n",
       "    <tr>\n",
       "      <th>3</th>\n",
       "      <td>010QS307CAT5WJ</td>\n",
       "      <td>9/14/2020</td>\n",
       "      <td>128.00</td>\n",
       "      <td>1.0</td>\n",
       "      <td>128.00</td>\n",
       "    </tr>\n",
       "    <tr>\n",
       "      <th>4</th>\n",
       "      <td>0101EN5Q3W4AE8</td>\n",
       "      <td>3/31/2022</td>\n",
       "      <td>160.00</td>\n",
       "      <td>1.0</td>\n",
       "      <td>160.00</td>\n",
       "    </tr>\n",
       "  </tbody>\n",
       "</table>\n",
       "</div>"
      ],
      "text/plain": [
       "              IID    ORDER_DT  DEMAND_AMT  DEMAND_QTY  Total Price\n",
       "0  010TUGIXZ95K5R   6/12/2020       52.46         1.0        52.46\n",
       "1  0109BPMLXNREXT    2/9/2021       44.96         1.0        44.96\n",
       "2  0102I4L0PINZB3  12/26/2022      178.50         1.0       178.50\n",
       "3  010QS307CAT5WJ   9/14/2020      128.00         1.0       128.00\n",
       "4  0101EN5Q3W4AE8   3/31/2022      160.00         1.0       160.00"
      ]
     },
     "execution_count": 14,
     "metadata": {},
     "output_type": "execute_result"
    }
   ],
   "source": [
    "df.head()"
   ]
  },
  {
   "cell_type": "code",
   "execution_count": 71,
   "id": "af40ad06",
   "metadata": {},
   "outputs": [
    {
     "data": {
      "text/plain": [
       "IID             ORDER_DT  \n",
       "010002OCPH2BK7  2022-10-20    1\n",
       "                2023-01-02    1\n",
       "0100048IR0CC5G  2020-02-17    4\n",
       "                2020-04-10    4\n",
       "                2020-05-20    2\n",
       "                             ..\n",
       "0115TZXTL34RJD  2022-11-27    2\n",
       "                2022-12-13    3\n",
       "                2022-12-19    2\n",
       "                2023-01-13    2\n",
       "                2023-01-15    2\n",
       "Length: 119015, dtype: int64"
      ]
     },
     "execution_count": 71,
     "metadata": {},
     "output_type": "execute_result"
    }
   ],
   "source": [
    "df.groupby([\"IID\", \"ORDER_DT\"]).size()\n"
   ]
  },
  {
   "cell_type": "code",
   "execution_count": 15,
   "id": "e0519fcb",
   "metadata": {},
   "outputs": [],
   "source": [
    "df['ORDER_DT']=pd.to_datetime(df['ORDER_DT'])"
   ]
  },
  {
   "cell_type": "code",
   "execution_count": 16,
   "id": "5d69f61d",
   "metadata": {},
   "outputs": [
    {
     "data": {
      "text/plain": [
       "IID                    object\n",
       "ORDER_DT       datetime64[ns]\n",
       "DEMAND_AMT            float64\n",
       "DEMAND_QTY            float64\n",
       "Total Price           float64\n",
       "dtype: object"
      ]
     },
     "execution_count": 16,
     "metadata": {},
     "output_type": "execute_result"
    }
   ],
   "source": [
    "df.dtypes"
   ]
  },
  {
   "cell_type": "code",
   "execution_count": 17,
   "id": "60c9c6a5",
   "metadata": {},
   "outputs": [
    {
     "data": {
      "text/plain": [
       "Timestamp('2023-01-31 00:00:00')"
      ]
     },
     "execution_count": 17,
     "metadata": {},
     "output_type": "execute_result"
    }
   ],
   "source": [
    "df['ORDER_DT'].max()"
   ]
  },
  {
   "cell_type": "code",
   "execution_count": 18,
   "id": "a7e9d162",
   "metadata": {},
   "outputs": [
    {
     "data": {
      "text/plain": [
       "Timestamp('2020-02-01 00:00:00')"
      ]
     },
     "execution_count": 18,
     "metadata": {},
     "output_type": "execute_result"
    }
   ],
   "source": [
    "df['ORDER_DT'].min()"
   ]
  },
  {
   "cell_type": "markdown",
   "id": "86c66c1f-71e5-47e9-9466-5199515b8498",
   "metadata": {},
   "source": [
    "### Creating Summary Dataset"
   ]
  },
  {
   "cell_type": "markdown",
   "id": "a3091502-19c5-4d27-a27d-f484157ebb6d",
   "metadata": {},
   "source": [
    "By using lifetimes we can also create our RFM data from the original dataset."
   ]
  },
  {
   "cell_type": "markdown",
   "id": "4875f5ea-de4c-40ac-b525-9d69dbbe78a8",
   "metadata": {},
   "source": [
    "- **Frequency** represents the number of repeat purchases the customer has made. This means that it’s one less than the total number of purchases. This is actually slightly wrong. It’s the count of time periods the customer had a purchase in. So if using days as units, then it’s the count of days the customer had a purchase on.\n",
    "\n",
    "- **Recency** represents the age of the customer when they made their most recent purchases. This is equal to the duration between a customer’s first purchase and their latest purchase. (Thus if they have made only 1 purchase, the recency is 0.)\n",
    "\n",
    "- **T** represents the age of the customer in whatever time units chosen (weekly, in the above dataset). This is equal to the duration between a customer’s first purchase and the end of the period under study.\n",
    "\n",
    "- **Monetary_Value** represents the average value of a given customer’s purchases. This is equal to the sum of all a customer’s purchases divided by the total number of purchases. Note that the denominator here is different than the frequency described above."
   ]
  },
  {
   "cell_type": "code",
   "execution_count": 72,
   "id": "7619dc72-dc5f-4dd5-9058-488e5c71d028",
   "metadata": {},
   "outputs": [],
   "source": [
    "clv = lifetimes.utils.summary_data_from_transaction_data(df,'IID','ORDER_DT','Total Price',observation_period_end='2023-01-31')"
   ]
  },
  {
   "cell_type": "code",
   "execution_count": 73,
   "id": "710b13fc-9302-42f2-8042-97fdae575e7a",
   "metadata": {
    "tags": []
   },
   "outputs": [],
   "source": [
    "clv = clv[clv['frequency']>1] # we want only customers shopped more than 2 times"
   ]
  },
  {
   "cell_type": "code",
   "execution_count": 74,
   "id": "bcfb6301-e7a5-4c97-a45d-dc17bf4b5714",
   "metadata": {},
   "outputs": [
    {
     "data": {
      "text/html": [
       "<div>\n",
       "<style scoped>\n",
       "    .dataframe tbody tr th:only-of-type {\n",
       "        vertical-align: middle;\n",
       "    }\n",
       "\n",
       "    .dataframe tbody tr th {\n",
       "        vertical-align: top;\n",
       "    }\n",
       "\n",
       "    .dataframe thead th {\n",
       "        text-align: right;\n",
       "    }\n",
       "</style>\n",
       "<table border=\"1\" class=\"dataframe\">\n",
       "  <thead>\n",
       "    <tr style=\"text-align: right;\">\n",
       "      <th></th>\n",
       "      <th>frequency</th>\n",
       "      <th>recency</th>\n",
       "      <th>T</th>\n",
       "      <th>monetary_value</th>\n",
       "    </tr>\n",
       "    <tr>\n",
       "      <th>IID</th>\n",
       "      <th></th>\n",
       "      <th></th>\n",
       "      <th></th>\n",
       "      <th></th>\n",
       "    </tr>\n",
       "  </thead>\n",
       "  <tbody>\n",
       "    <tr>\n",
       "      <th>0100048IR0CC5G</th>\n",
       "      <td>11.0</td>\n",
       "      <td>732.0</td>\n",
       "      <td>1079.0</td>\n",
       "      <td>143.748182</td>\n",
       "    </tr>\n",
       "    <tr>\n",
       "      <th>010005D13BBMIY</th>\n",
       "      <td>15.0</td>\n",
       "      <td>1012.0</td>\n",
       "      <td>1053.0</td>\n",
       "      <td>67.661333</td>\n",
       "    </tr>\n",
       "    <tr>\n",
       "      <th>010006AMGHWDXE</th>\n",
       "      <td>2.0</td>\n",
       "      <td>785.0</td>\n",
       "      <td>1081.0</td>\n",
       "      <td>118.350000</td>\n",
       "    </tr>\n",
       "    <tr>\n",
       "      <th>01000BUMK6BOBK</th>\n",
       "      <td>5.0</td>\n",
       "      <td>400.0</td>\n",
       "      <td>439.0</td>\n",
       "      <td>120.240000</td>\n",
       "    </tr>\n",
       "    <tr>\n",
       "      <th>01000GRL4WQ6CF</th>\n",
       "      <td>5.0</td>\n",
       "      <td>558.0</td>\n",
       "      <td>791.0</td>\n",
       "      <td>40.446000</td>\n",
       "    </tr>\n",
       "  </tbody>\n",
       "</table>\n",
       "</div>"
      ],
      "text/plain": [
       "                frequency  recency       T  monetary_value\n",
       "IID                                                       \n",
       "0100048IR0CC5G       11.0    732.0  1079.0      143.748182\n",
       "010005D13BBMIY       15.0   1012.0  1053.0       67.661333\n",
       "010006AMGHWDXE        2.0    785.0  1081.0      118.350000\n",
       "01000BUMK6BOBK        5.0    400.0   439.0      120.240000\n",
       "01000GRL4WQ6CF        5.0    558.0   791.0       40.446000"
      ]
     },
     "execution_count": 74,
     "metadata": {},
     "output_type": "execute_result"
    }
   ],
   "source": [
    "clv.head()"
   ]
  },
  {
   "cell_type": "markdown",
   "id": "7dc7c9a7-e05a-41f0-b1ea-962cd2583c0a",
   "metadata": {},
   "source": [
    "### BG/NBD (Beta Geometric/Negative Binomial Distribution Model for Predicting Number of Purchase. This model is a popular model in the RETAIL INDUSTRY.\n"
   ]
  },
  {
   "cell_type": "code",
   "execution_count": 75,
   "id": "70cad4ce-c9f1-49a2-bc2c-59e36f9bca96",
   "metadata": {},
   "outputs": [
    {
     "data": {
      "text/plain": [
       "<lifetimes.BetaGeoFitter: fitted with 8929 subjects, a: 0.00, alpha: 102.61, b: 1.09, r: 1.40>"
      ]
     },
     "execution_count": 75,
     "metadata": {},
     "output_type": "execute_result"
    }
   ],
   "source": [
    "bgf = BetaGeoFitter(penalizer_coef=0.001)\n",
    "bgf.fit(clv['frequency'], clv['recency'], clv['T'])"
   ]
  },
  {
   "cell_type": "markdown",
   "id": "ebf46ca8-f19f-4d23-ac79-863bc6a11172",
   "metadata": {},
   "source": [
    "#### Summary of BG/NBD Model"
   ]
  },
  {
   "cell_type": "code",
   "execution_count": 76,
   "id": "5d99054d-9cf2-4383-9aa3-32bcf6562ce6",
   "metadata": {},
   "outputs": [
    {
     "data": {
      "text/html": [
       "<div>\n",
       "<style scoped>\n",
       "    .dataframe tbody tr th:only-of-type {\n",
       "        vertical-align: middle;\n",
       "    }\n",
       "\n",
       "    .dataframe tbody tr th {\n",
       "        vertical-align: top;\n",
       "    }\n",
       "\n",
       "    .dataframe thead th {\n",
       "        text-align: right;\n",
       "    }\n",
       "</style>\n",
       "<table border=\"1\" class=\"dataframe\">\n",
       "  <thead>\n",
       "    <tr style=\"text-align: right;\">\n",
       "      <th></th>\n",
       "      <th>coef</th>\n",
       "      <th>se(coef)</th>\n",
       "      <th>lower 95% bound</th>\n",
       "      <th>upper 95% bound</th>\n",
       "    </tr>\n",
       "  </thead>\n",
       "  <tbody>\n",
       "    <tr>\n",
       "      <th>r</th>\n",
       "      <td>1.399297</td>\n",
       "      <td>0.021738</td>\n",
       "      <td>1.356692</td>\n",
       "      <td>1.441903</td>\n",
       "    </tr>\n",
       "    <tr>\n",
       "      <th>alpha</th>\n",
       "      <td>102.609222</td>\n",
       "      <td>1.891242</td>\n",
       "      <td>98.902388</td>\n",
       "      <td>106.316056</td>\n",
       "    </tr>\n",
       "    <tr>\n",
       "      <th>a</th>\n",
       "      <td>0.002439</td>\n",
       "      <td>0.000692</td>\n",
       "      <td>0.001083</td>\n",
       "      <td>0.003796</td>\n",
       "    </tr>\n",
       "    <tr>\n",
       "      <th>b</th>\n",
       "      <td>1.087962</td>\n",
       "      <td>0.174670</td>\n",
       "      <td>0.745609</td>\n",
       "      <td>1.430315</td>\n",
       "    </tr>\n",
       "  </tbody>\n",
       "</table>\n",
       "</div>"
      ],
      "text/plain": [
       "             coef  se(coef)  lower 95% bound  upper 95% bound\n",
       "r        1.399297  0.021738         1.356692         1.441903\n",
       "alpha  102.609222  1.891242        98.902388       106.316056\n",
       "a        0.002439  0.000692         0.001083         0.003796\n",
       "b        1.087962  0.174670         0.745609         1.430315"
      ]
     },
     "execution_count": 76,
     "metadata": {},
     "output_type": "execute_result"
    }
   ],
   "source": [
    "bgf.summary"
   ]
  },
  {
   "cell_type": "markdown",
   "id": "83920584-009b-44ca-bb85-0620ac64e062",
   "metadata": {},
   "source": [
    "### Visualizing our Frequency/Recency Matrix"
   ]
  },
  {
   "cell_type": "code",
   "execution_count": 77,
   "id": "9a9dd4fd-63f9-455e-84e2-76c449b13d61",
   "metadata": {},
   "outputs": [
    {
     "name": "stderr",
     "output_type": "stream",
     "text": [
      "C:\\Users\\Owner\\anaconda3\\lib\\site-packages\\lifetimes\\fitters\\beta_geo_fitter.py:256: RuntimeWarning: overflow encountered in double_scalars\n",
      "  denominator = 1 + (x > 0) * (a / (b + x - 1)) * ((alpha + T) / (alpha + recency)) ** (r + x)\n"
     ]
    },
    {
     "data": {
      "image/png": "[encoded data removed]",
      "text/plain": [
       "<Figure size 1200x900 with 2 Axes>"
      ]
     },
     "metadata": {},
     "output_type": "display_data"
    }
   ],
   "source": [
    "plt.figure(figsize=(12,9))\n",
    "plot_frequency_recency_matrix(bgf)\n",
    "plt.show()"
   ]
  },
  {
   "cell_type": "markdown",
   "id": "ba283f5b-7e4d-4613-bef0-7d5264770db7",
   "metadata": {},
   "source": [
    "#### Expected Number of Purchases in 6 Months"
   ]
  },
  {
   "cell_type": "code",
   "execution_count": 90,
   "id": "3354b457-cbb3-4cf8-9df8-e83adabf9475",
   "metadata": {},
   "outputs": [
    {
     "data": {
      "text/html": [
       "<div>\n",
       "<style scoped>\n",
       "    .dataframe tbody tr th:only-of-type {\n",
       "        vertical-align: middle;\n",
       "    }\n",
       "\n",
       "    .dataframe tbody tr th {\n",
       "        vertical-align: top;\n",
       "    }\n",
       "\n",
       "    .dataframe thead th {\n",
       "        text-align: right;\n",
       "    }\n",
       "</style>\n",
       "<table border=\"1\" class=\"dataframe\">\n",
       "  <thead>\n",
       "    <tr style=\"text-align: right;\">\n",
       "      <th></th>\n",
       "      <th>frequency</th>\n",
       "      <th>recency</th>\n",
       "      <th>T</th>\n",
       "      <th>monetary_value</th>\n",
       "      <th>expected_purc_6_months</th>\n",
       "      <th>6_Months_CLV</th>\n",
       "      <th>Segment</th>\n",
       "    </tr>\n",
       "    <tr>\n",
       "      <th>IID</th>\n",
       "      <th></th>\n",
       "      <th></th>\n",
       "      <th></th>\n",
       "      <th></th>\n",
       "      <th></th>\n",
       "      <th></th>\n",
       "      <th></th>\n",
       "    </tr>\n",
       "  </thead>\n",
       "  <tbody>\n",
       "    <tr>\n",
       "      <th>010EAXG020328O</th>\n",
       "      <td>561.0</td>\n",
       "      <td>1094.0</td>\n",
       "      <td>1095.0</td>\n",
       "      <td>232.582139</td>\n",
       "      <td>84.512909</td>\n",
       "      <td>18991.285466</td>\n",
       "      <td>Champions</td>\n",
       "    </tr>\n",
       "    <tr>\n",
       "      <th>010PXG5QVFDRTI</th>\n",
       "      <td>395.0</td>\n",
       "      <td>1087.0</td>\n",
       "      <td>1091.0</td>\n",
       "      <td>142.104278</td>\n",
       "      <td>59.766343</td>\n",
       "      <td>8206.910432</td>\n",
       "      <td>Champions</td>\n",
       "    </tr>\n",
       "    <tr>\n",
       "      <th>010TPQOHLPTWWR</th>\n",
       "      <td>310.0</td>\n",
       "      <td>925.0</td>\n",
       "      <td>943.0</td>\n",
       "      <td>71.918258</td>\n",
       "      <td>53.502323</td>\n",
       "      <td>3718.901943</td>\n",
       "      <td>Champions</td>\n",
       "    </tr>\n",
       "    <tr>\n",
       "      <th>010HK3TA0G509P</th>\n",
       "      <td>60.0</td>\n",
       "      <td>113.0</td>\n",
       "      <td>113.0</td>\n",
       "      <td>291.484000</td>\n",
       "      <td>51.214265</td>\n",
       "      <td>14454.739212</td>\n",
       "      <td>Champions</td>\n",
       "    </tr>\n",
       "    <tr>\n",
       "      <th>010N7VG2IOXYEX</th>\n",
       "      <td>275.0</td>\n",
       "      <td>1015.0</td>\n",
       "      <td>1024.0</td>\n",
       "      <td>52.582545</td>\n",
       "      <td>44.148909</td>\n",
       "      <td>2244.038396</td>\n",
       "      <td>Champions</td>\n",
       "    </tr>\n",
       "  </tbody>\n",
       "</table>\n",
       "</div>"
      ],
      "text/plain": [
       "                frequency  recency       T  monetary_value  expected_purc_6_months  6_Months_CLV    Segment\n",
       "IID                                                                                                        \n",
       "010EAXG020328O      561.0   1094.0  1095.0      232.582139               84.512909  18991.285466  Champions\n",
       "010PXG5QVFDRTI      395.0   1087.0  1091.0      142.104278               59.766343   8206.910432  Champions\n",
       "010TPQOHLPTWWR      310.0    925.0   943.0       71.918258               53.502323   3718.901943  Champions\n",
       "010HK3TA0G509P       60.0    113.0   113.0      291.484000               51.214265  14454.739212  Champions\n",
       "010N7VG2IOXYEX      275.0   1015.0  1024.0       52.582545               44.148909   2244.038396  Champions"
      ]
     },
     "execution_count": 90,
     "metadata": {},
     "output_type": "execute_result"
    }
   ],
   "source": [
    "t = 180 # 30 day period\n",
    "clv['expected_purc_6_months'] = bgf.conditional_expected_number_of_purchases_up_to_time(t, clv['frequency'], clv['recency'], clv['T'])\n",
    "clv.sort_values(by='expected_purc_6_months',ascending=False).head(5)"
   ]
  },
  {
   "cell_type": "markdown",
   "id": "97af4ba1-168f-43f0-a694-92e843368284",
   "metadata": {},
   "source": [
    "#### Expected Number of Purchases ın 12 Months"
   ]
  },
  {
   "cell_type": "code",
   "execution_count": 91,
   "id": "46b4c15d-d8f5-41f0-8c04-ead29a85573a",
   "metadata": {},
   "outputs": [],
   "source": [
    "#t = 360\n",
    "#clv['expected_purc_12_months'] = bgf.conditional_expected_number_of_purchases_up_to_time(t, clv['frequency'], clv['recency'], clv['T'])\n",
    "#clv.sort_values(by='expected_purc_12_months',ascending=False).head(5)"
   ]
  },
  {
   "cell_type": "markdown",
   "id": "f08eca53-d43d-4780-87b5-ee9997e1728f",
   "metadata": {},
   "source": [
    "### Gamma - Gamma Model"
   ]
  },
  {
   "cell_type": "markdown",
   "id": "8c2fc1cf-12aa-4272-9433-5a536193b885",
   "metadata": {},
   "source": [
    "The Gamma-Gamma Model can predict the most likely value per transaction in the future"
   ]
  },
  {
   "cell_type": "markdown",
   "id": "367dceca-0a96-4c37-b013-c3ab299594d8",
   "metadata": {},
   "source": [
    "#### Assumption"
   ]
  },
  {
   "cell_type": "markdown",
   "id": "fbe2e51c-4ad9-481d-9033-3c782de1e8f1",
   "metadata": {},
   "source": [
    "The model we are going to use to estimate the CLV for our userbase is called the Gamma-Gamma submodel, which relies upon an important assumption. The Gamma-Gamma submodel, in fact, assumes that there is no relationship between the monetary value and the purchase frequency. In practice we need to check whether the Pearson correlation between the two vectors is close to 0 in order to use this model."
   ]
  },
  {
   "cell_type": "code",
   "execution_count": 80,
   "id": "0d52d747-a7f6-4ef1-9f0a-a36eb9d358c3",
   "metadata": {},
   "outputs": [
    {
     "data": {
      "text/html": [
       "<div>\n",
       "<style scoped>\n",
       "    .dataframe tbody tr th:only-of-type {\n",
       "        vertical-align: middle;\n",
       "    }\n",
       "\n",
       "    .dataframe tbody tr th {\n",
       "        vertical-align: top;\n",
       "    }\n",
       "\n",
       "    .dataframe thead th {\n",
       "        text-align: right;\n",
       "    }\n",
       "</style>\n",
       "<table border=\"1\" class=\"dataframe\">\n",
       "  <thead>\n",
       "    <tr style=\"text-align: right;\">\n",
       "      <th></th>\n",
       "      <th>frequency</th>\n",
       "      <th>monetary_value</th>\n",
       "    </tr>\n",
       "  </thead>\n",
       "  <tbody>\n",
       "    <tr>\n",
       "      <th>frequency</th>\n",
       "      <td>1.000000</td>\n",
       "      <td>0.052145</td>\n",
       "    </tr>\n",
       "    <tr>\n",
       "      <th>monetary_value</th>\n",
       "      <td>0.052145</td>\n",
       "      <td>1.000000</td>\n",
       "    </tr>\n",
       "  </tbody>\n",
       "</table>\n",
       "</div>"
      ],
      "text/plain": [
       "                frequency  monetary_value\n",
       "frequency        1.000000        0.052145\n",
       "monetary_value   0.052145        1.000000"
      ]
     },
     "execution_count": 80,
     "metadata": {},
     "output_type": "execute_result"
    }
   ],
   "source": [
    "clv[['frequency','monetary_value']].corr()"
   ]
  },
  {
   "cell_type": "markdown",
   "id": "33f74ab1-e808-4a0e-9bdd-ba0cd07e82d3",
   "metadata": {},
   "source": [
    "At this point we can train our Gamma-Gamma submodel and predict the conditional, expected average lifetime value of our customers."
   ]
  },
  {
   "cell_type": "code",
   "execution_count": 81,
   "id": "c4d8e682-d956-486c-9770-d5d96a2b839d",
   "metadata": {},
   "outputs": [
    {
     "data": {
      "text/plain": [
       "<lifetimes.GammaGammaFitter: fitted with 8929 subjects, p: 4.05, q: 0.46, v: 3.99>"
      ]
     },
     "execution_count": 81,
     "metadata": {},
     "output_type": "execute_result"
    }
   ],
   "source": [
    "ggf = GammaGammaFitter(penalizer_coef=0.01)\n",
    "ggf.fit(clv[\"frequency\"],\n",
    "        clv[\"monetary_value\"])"
   ]
  },
  {
   "cell_type": "markdown",
   "id": "1c18b83c-07f3-4b8f-bb8a-25c04ab0d5af",
   "metadata": {},
   "source": [
    "### 6 months Customer Lifetime Value"
   ]
  },
  {
   "cell_type": "code",
   "execution_count": 82,
   "id": "3150bf5e-ce9f-4b18-98d3-1e22c4c1cf7a",
   "metadata": {},
   "outputs": [],
   "source": [
    "clv['6_Months_CLV']=ggf.customer_lifetime_value(bgf,\n",
    "                                   clv[\"frequency\"],\n",
    "                                   clv[\"recency\"],\n",
    "                                   clv[\"T\"],\n",
    "                                   clv[\"monetary_value\"],\n",
    "                                   time=6,\n",
    "                                   freq='D',\n",
    "                                   discount_rate=0.01)"
   ]
  },
  {
   "cell_type": "code",
   "execution_count": 83,
   "id": "31a7e1e1-ca77-45c0-8fb4-41d32c7ac2d4",
   "metadata": {},
   "outputs": [
    {
     "data": {
      "text/html": [
       "<div>\n",
       "<style scoped>\n",
       "    .dataframe tbody tr th:only-of-type {\n",
       "        vertical-align: middle;\n",
       "    }\n",
       "\n",
       "    .dataframe tbody tr th {\n",
       "        vertical-align: top;\n",
       "    }\n",
       "\n",
       "    .dataframe thead th {\n",
       "        text-align: right;\n",
       "    }\n",
       "</style>\n",
       "<table border=\"1\" class=\"dataframe\">\n",
       "  <thead>\n",
       "    <tr style=\"text-align: right;\">\n",
       "      <th></th>\n",
       "      <th>frequency</th>\n",
       "      <th>recency</th>\n",
       "      <th>T</th>\n",
       "      <th>monetary_value</th>\n",
       "      <th>expected_purc_6_months</th>\n",
       "      <th>6_Months_CLV</th>\n",
       "    </tr>\n",
       "    <tr>\n",
       "      <th>IID</th>\n",
       "      <th></th>\n",
       "      <th></th>\n",
       "      <th></th>\n",
       "      <th></th>\n",
       "      <th></th>\n",
       "      <th></th>\n",
       "    </tr>\n",
       "  </thead>\n",
       "  <tbody>\n",
       "    <tr>\n",
       "      <th>010EAXG020328O</th>\n",
       "      <td>561.0</td>\n",
       "      <td>1094.0</td>\n",
       "      <td>1095.0</td>\n",
       "      <td>232.582139</td>\n",
       "      <td>84.512909</td>\n",
       "      <td>18991.285466</td>\n",
       "    </tr>\n",
       "    <tr>\n",
       "      <th>010EF2O2JTXADL</th>\n",
       "      <td>102.0</td>\n",
       "      <td>1058.0</td>\n",
       "      <td>1061.0</td>\n",
       "      <td>1164.410196</td>\n",
       "      <td>15.991545</td>\n",
       "      <td>18010.126667</td>\n",
       "    </tr>\n",
       "    <tr>\n",
       "      <th>010HK3TA0G509P</th>\n",
       "      <td>60.0</td>\n",
       "      <td>113.0</td>\n",
       "      <td>113.0</td>\n",
       "      <td>291.484000</td>\n",
       "      <td>51.214265</td>\n",
       "      <td>14454.739212</td>\n",
       "    </tr>\n",
       "    <tr>\n",
       "      <th>0100TTZOKEZYCA</th>\n",
       "      <td>232.0</td>\n",
       "      <td>1092.0</td>\n",
       "      <td>1093.0</td>\n",
       "      <td>409.567672</td>\n",
       "      <td>35.131833</td>\n",
       "      <td>13906.971909</td>\n",
       "    </tr>\n",
       "    <tr>\n",
       "      <th>0108VVYR1GJ2F0</th>\n",
       "      <td>129.0</td>\n",
       "      <td>1071.0</td>\n",
       "      <td>1087.0</td>\n",
       "      <td>724.103566</td>\n",
       "      <td>19.725060</td>\n",
       "      <td>13810.981642</td>\n",
       "    </tr>\n",
       "  </tbody>\n",
       "</table>\n",
       "</div>"
      ],
      "text/plain": [
       "                frequency  recency       T  monetary_value  expected_purc_6_months  6_Months_CLV\n",
       "IID                                                                                             \n",
       "010EAXG020328O      561.0   1094.0  1095.0      232.582139               84.512909  18991.285466\n",
       "010EF2O2JTXADL      102.0   1058.0  1061.0     1164.410196               15.991545  18010.126667\n",
       "010HK3TA0G509P       60.0    113.0   113.0      291.484000               51.214265  14454.739212\n",
       "0100TTZOKEZYCA      232.0   1092.0  1093.0      409.567672               35.131833  13906.971909\n",
       "0108VVYR1GJ2F0      129.0   1071.0  1087.0      724.103566               19.725060  13810.981642"
      ]
     },
     "execution_count": 83,
     "metadata": {},
     "output_type": "execute_result"
    }
   ],
   "source": [
    "clv.sort_values('6_Months_CLV',ascending=False).head()"
   ]
  },
  {
   "cell_type": "markdown",
   "id": "61b0eb52-ee55-4ad0-b09e-f73f74aa1d80",
   "metadata": {},
   "source": [
    "#### Segmentation Customers by 6 Months CLV"
   ]
  },
  {
   "cell_type": "code",
   "execution_count": 84,
   "id": "b1bd90a1-0b8c-4163-b8d2-7ad5982189af",
   "metadata": {},
   "outputs": [],
   "source": [
    "clv['Segment'] =  pd.qcut(clv['6_Months_CLV'],4,labels = ['Hibernating','Need Attention',\n",
    "                                                          'Loyal Customers','Champions'])"
   ]
  },
  {
   "cell_type": "code",
   "execution_count": 85,
   "id": "f7b922c6-f15b-41f7-8a17-7a9f3a61798f",
   "metadata": {},
   "outputs": [
    {
     "data": {
      "text/html": [
       "<div>\n",
       "<style scoped>\n",
       "    .dataframe tbody tr th:only-of-type {\n",
       "        vertical-align: middle;\n",
       "    }\n",
       "\n",
       "    .dataframe tbody tr th {\n",
       "        vertical-align: top;\n",
       "    }\n",
       "\n",
       "    .dataframe thead th {\n",
       "        text-align: right;\n",
       "    }\n",
       "</style>\n",
       "<table border=\"1\" class=\"dataframe\">\n",
       "  <thead>\n",
       "    <tr style=\"text-align: right;\">\n",
       "      <th></th>\n",
       "      <th>frequency</th>\n",
       "      <th>recency</th>\n",
       "      <th>T</th>\n",
       "      <th>monetary_value</th>\n",
       "      <th>expected_purc_6_months</th>\n",
       "      <th>6_Months_CLV</th>\n",
       "      <th>Segment</th>\n",
       "    </tr>\n",
       "    <tr>\n",
       "      <th>IID</th>\n",
       "      <th></th>\n",
       "      <th></th>\n",
       "      <th></th>\n",
       "      <th></th>\n",
       "      <th></th>\n",
       "      <th></th>\n",
       "      <th></th>\n",
       "    </tr>\n",
       "  </thead>\n",
       "  <tbody>\n",
       "    <tr>\n",
       "      <th>0100048IR0CC5G</th>\n",
       "      <td>11.0</td>\n",
       "      <td>732.0</td>\n",
       "      <td>1079.0</td>\n",
       "      <td>143.748182</td>\n",
       "      <td>1.858018</td>\n",
       "      <td>261.801685</td>\n",
       "      <td>Loyal Customers</td>\n",
       "    </tr>\n",
       "    <tr>\n",
       "      <th>010005D13BBMIY</th>\n",
       "      <td>15.0</td>\n",
       "      <td>1012.0</td>\n",
       "      <td>1053.0</td>\n",
       "      <td>67.661333</td>\n",
       "      <td>2.553143</td>\n",
       "      <td>169.016464</td>\n",
       "      <td>Need Attention</td>\n",
       "    </tr>\n",
       "    <tr>\n",
       "      <th>010006AMGHWDXE</th>\n",
       "      <td>2.0</td>\n",
       "      <td>785.0</td>\n",
       "      <td>1081.0</td>\n",
       "      <td>118.350000</td>\n",
       "      <td>0.515226</td>\n",
       "      <td>64.161381</td>\n",
       "      <td>Hibernating</td>\n",
       "    </tr>\n",
       "    <tr>\n",
       "      <th>01000BUMK6BOBK</th>\n",
       "      <td>5.0</td>\n",
       "      <td>400.0</td>\n",
       "      <td>439.0</td>\n",
       "      <td>120.240000</td>\n",
       "      <td>2.124187</td>\n",
       "      <td>255.135881</td>\n",
       "      <td>Loyal Customers</td>\n",
       "    </tr>\n",
       "    <tr>\n",
       "      <th>01000GRL4WQ6CF</th>\n",
       "      <td>5.0</td>\n",
       "      <td>558.0</td>\n",
       "      <td>791.0</td>\n",
       "      <td>40.446000</td>\n",
       "      <td>1.284399</td>\n",
       "      <td>52.567287</td>\n",
       "      <td>Hibernating</td>\n",
       "    </tr>\n",
       "  </tbody>\n",
       "</table>\n",
       "</div>"
      ],
      "text/plain": [
       "                frequency  recency       T  monetary_value  expected_purc_6_months  6_Months_CLV          Segment\n",
       "IID                                                                                                              \n",
       "0100048IR0CC5G       11.0    732.0  1079.0      143.748182                1.858018    261.801685  Loyal Customers\n",
       "010005D13BBMIY       15.0   1012.0  1053.0       67.661333                2.553143    169.016464   Need Attention\n",
       "010006AMGHWDXE        2.0    785.0  1081.0      118.350000                0.515226     64.161381      Hibernating\n",
       "01000BUMK6BOBK        5.0    400.0   439.0      120.240000                2.124187    255.135881  Loyal Customers\n",
       "01000GRL4WQ6CF        5.0    558.0   791.0       40.446000                1.284399     52.567287      Hibernating"
      ]
     },
     "execution_count": 85,
     "metadata": {},
     "output_type": "execute_result"
    }
   ],
   "source": [
    "clv.head()"
   ]
  },
  {
   "cell_type": "markdown",
   "id": "45a4659d-ac27-4e13-a613-6a2ac6120d17",
   "metadata": {},
   "source": [
    "### Final Dataframe. BG/NBD (Beta Geometric/Negative Binomial Distribution Model for Predicting Number of Purchase. This model is a popular model in the RETAIL INDUSTRY"
   ]
  },
  {
   "cell_type": "code",
   "execution_count": 86,
   "id": "1ef9f89f-2ba0-468a-9e30-81bdf67f3ac3",
   "metadata": {},
   "outputs": [
    {
     "data": {
      "text/html": [
       "<div>\n",
       "<style scoped>\n",
       "    .dataframe tbody tr th:only-of-type {\n",
       "        vertical-align: middle;\n",
       "    }\n",
       "\n",
       "    .dataframe tbody tr th {\n",
       "        vertical-align: top;\n",
       "    }\n",
       "\n",
       "    .dataframe thead th {\n",
       "        text-align: right;\n",
       "    }\n",
       "</style>\n",
       "<table border=\"1\" class=\"dataframe\">\n",
       "  <thead>\n",
       "    <tr style=\"text-align: right;\">\n",
       "      <th></th>\n",
       "      <th>frequency</th>\n",
       "      <th>recency</th>\n",
       "      <th>T</th>\n",
       "      <th>monetary_value</th>\n",
       "      <th>expected_purc_6_months</th>\n",
       "      <th>6_Months_CLV</th>\n",
       "    </tr>\n",
       "    <tr>\n",
       "      <th>Segment</th>\n",
       "      <th></th>\n",
       "      <th></th>\n",
       "      <th></th>\n",
       "      <th></th>\n",
       "      <th></th>\n",
       "      <th></th>\n",
       "    </tr>\n",
       "  </thead>\n",
       "  <tbody>\n",
       "    <tr>\n",
       "      <th>Hibernating</th>\n",
       "      <td>4.364980</td>\n",
       "      <td>693.476489</td>\n",
       "      <td>837.280788</td>\n",
       "      <td>81.208973</td>\n",
       "      <td>1.010596</td>\n",
       "      <td>77.164766</td>\n",
       "    </tr>\n",
       "    <tr>\n",
       "      <th>Need Attention</th>\n",
       "      <td>5.968638</td>\n",
       "      <td>684.912186</td>\n",
       "      <td>810.444892</td>\n",
       "      <td>138.360672</td>\n",
       "      <td>1.451700</td>\n",
       "      <td>176.795299</td>\n",
       "    </tr>\n",
       "    <tr>\n",
       "      <th>Loyal Customers</th>\n",
       "      <td>9.435036</td>\n",
       "      <td>695.343638</td>\n",
       "      <td>797.132616</td>\n",
       "      <td>185.386590</td>\n",
       "      <td>2.128952</td>\n",
       "      <td>335.216590</td>\n",
       "    </tr>\n",
       "    <tr>\n",
       "      <th>Champions</th>\n",
       "      <td>25.844086</td>\n",
       "      <td>763.352599</td>\n",
       "      <td>824.289427</td>\n",
       "      <td>262.781299</td>\n",
       "      <td>5.013041</td>\n",
       "      <td>1063.607087</td>\n",
       "    </tr>\n",
       "  </tbody>\n",
       "</table>\n",
       "</div>"
      ],
      "text/plain": [
       "                 frequency     recency           T  monetary_value  expected_purc_6_months  6_Months_CLV\n",
       "Segment                                                                                                 \n",
       "Hibernating       4.364980  693.476489  837.280788       81.208973                1.010596     77.164766\n",
       "Need Attention    5.968638  684.912186  810.444892      138.360672                1.451700    176.795299\n",
       "Loyal Customers   9.435036  695.343638  797.132616      185.386590                2.128952    335.216590\n",
       "Champions        25.844086  763.352599  824.289427      262.781299                5.013041   1063.607087"
      ]
     },
     "execution_count": 86,
     "metadata": {},
     "output_type": "execute_result"
    }
   ],
   "source": [
    "clv_segments=clv.groupby('Segment').mean()\n",
    "clv_segments\n",
    "# Shows the \"Champion shoppers\" will shop 5 times in the next 6 mos on average and will spend $1063.00\n",
    "# \"Hibernators\" will visit once in 6 mos and spend $77 in the next 6 mos on average\n",
    "# TARGETS: \"Hibernators\" and \"Need Attention\""
   ]
  },
  {
   "cell_type": "markdown",
   "id": "a25a8a47-5dfb-45dc-8012-99545668ad4f",
   "metadata": {},
   "source": [
    "### Group by Segment"
   ]
  },
  {
   "cell_type": "code",
   "execution_count": 87,
   "id": "69934597-fbad-46f9-a7eb-6fcaf1204eb0",
   "metadata": {},
   "outputs": [],
   "source": [
    "clv_segments.reset_index(inplace=True)"
   ]
  },
  {
   "cell_type": "code",
   "execution_count": 88,
   "id": "227833ee",
   "metadata": {},
   "outputs": [
    {
     "data": {
      "text/html": [
       "<div>\n",
       "<style scoped>\n",
       "    .dataframe tbody tr th:only-of-type {\n",
       "        vertical-align: middle;\n",
       "    }\n",
       "\n",
       "    .dataframe tbody tr th {\n",
       "        vertical-align: top;\n",
       "    }\n",
       "\n",
       "    .dataframe thead th {\n",
       "        text-align: right;\n",
       "    }\n",
       "</style>\n",
       "<table border=\"1\" class=\"dataframe\">\n",
       "  <thead>\n",
       "    <tr style=\"text-align: right;\">\n",
       "      <th></th>\n",
       "      <th>Segment</th>\n",
       "      <th>frequency</th>\n",
       "      <th>recency</th>\n",
       "      <th>T</th>\n",
       "      <th>monetary_value</th>\n",
       "      <th>expected_purc_6_months</th>\n",
       "      <th>6_Months_CLV</th>\n",
       "    </tr>\n",
       "  </thead>\n",
       "  <tbody>\n",
       "    <tr>\n",
       "      <th>0</th>\n",
       "      <td>Hibernating</td>\n",
       "      <td>4.364980</td>\n",
       "      <td>693.476489</td>\n",
       "      <td>837.280788</td>\n",
       "      <td>81.208973</td>\n",
       "      <td>1.010596</td>\n",
       "      <td>77.164766</td>\n",
       "    </tr>\n",
       "    <tr>\n",
       "      <th>1</th>\n",
       "      <td>Need Attention</td>\n",
       "      <td>5.968638</td>\n",
       "      <td>684.912186</td>\n",
       "      <td>810.444892</td>\n",
       "      <td>138.360672</td>\n",
       "      <td>1.451700</td>\n",
       "      <td>176.795299</td>\n",
       "    </tr>\n",
       "    <tr>\n",
       "      <th>2</th>\n",
       "      <td>Loyal Customers</td>\n",
       "      <td>9.435036</td>\n",
       "      <td>695.343638</td>\n",
       "      <td>797.132616</td>\n",
       "      <td>185.386590</td>\n",
       "      <td>2.128952</td>\n",
       "      <td>335.216590</td>\n",
       "    </tr>\n",
       "    <tr>\n",
       "      <th>3</th>\n",
       "      <td>Champions</td>\n",
       "      <td>25.844086</td>\n",
       "      <td>763.352599</td>\n",
       "      <td>824.289427</td>\n",
       "      <td>262.781299</td>\n",
       "      <td>5.013041</td>\n",
       "      <td>1063.607087</td>\n",
       "    </tr>\n",
       "  </tbody>\n",
       "</table>\n",
       "</div>"
      ],
      "text/plain": [
       "           Segment  frequency     recency           T  monetary_value  expected_purc_6_months  6_Months_CLV\n",
       "0      Hibernating   4.364980  693.476489  837.280788       81.208973                1.010596     77.164766\n",
       "1   Need Attention   5.968638  684.912186  810.444892      138.360672                1.451700    176.795299\n",
       "2  Loyal Customers   9.435036  695.343638  797.132616      185.386590                2.128952    335.216590\n",
       "3        Champions  25.844086  763.352599  824.289427      262.781299                5.013041   1063.607087"
      ]
     },
     "execution_count": 88,
     "metadata": {},
     "output_type": "execute_result"
    }
   ],
   "source": [
    "clv_segments"
   ]
  },
  {
   "cell_type": "code",
   "execution_count": 89,
   "id": "43d82498",
   "metadata": {},
   "outputs": [],
   "source": [
    "clv_segments.to_csv('clv_segments.csv', index=False)"
   ]
  },
  {
   "cell_type": "code",
   "execution_count": null,
   "id": "6ea6d3d6",
   "metadata": {},
   "outputs": [],
   "source": []
  }
 ],
 "metadata": {
  "kernelspec": {
   "display_name": "PythonData",
   "language": "python",
   "name": "pythondata"
  },
  "language_info": {
   "codemirror_mode": {
    "name": "ipython",
    "version": 3
   },
   "file_extension": ".py",
   "mimetype": "text/x-python",
   "name": "python",
   "nbconvert_exporter": "python",
   "pygments_lexer": "ipython3",
   "version": "3.9.13"
  }
 },
 "nbformat": 4,
 "nbformat_minor": 5
}
